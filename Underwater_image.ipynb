{
  "nbformat": 4,
  "nbformat_minor": 0,
  "metadata": {
    "colab": {
      "name": "Underwater_image.ipynb",
      "provenance": [],
      "authorship_tag": "ABX9TyMfSY7twZ7tx7ZzUOrtwbgV",
      "include_colab_link": true
    },
    "kernelspec": {
      "name": "python3",
      "display_name": "Python 3"
    },
    "language_info": {
      "name": "python"
    }
  },
  "cells": [
    {
      "cell_type": "markdown",
      "metadata": {
        "id": "view-in-github",
        "colab_type": "text"
      },
      "source": [
        "<a href=\"https://colab.research.google.com/github/lalitha7997/Single-Underwater-Image-Enhancement-and-Color-Restoration/blob/master/Underwater_image.ipynb\" target=\"_parent\"><img src=\"https://colab.research.google.com/assets/colab-badge.svg\" alt=\"Open In Colab\"/></a>"
      ]
    },
    {
      "cell_type": "code",
      "metadata": {
        "colab": {
          "base_uri": "https://localhost:8080/"
        },
        "outputId": "78e4ac69-25c5-49eb-f0c4-4acfed102fb2",
        "id": "8XiDSoKKytuC"
      },
      "source": [
        "from google.colab import drive\n",
        "drive.mount('/content/gdrive')"
      ],
      "execution_count": 28,
      "outputs": [
        {
          "output_type": "stream",
          "name": "stdout",
          "text": [
            "Drive already mounted at /content/gdrive; to attempt to forcibly remount, call drive.mount(\"/content/gdrive\", force_remount=True).\n"
          ]
        }
      ]
    },
    {
      "cell_type": "code",
      "execution_count": 30,
      "metadata": {
        "colab": {
          "base_uri": "https://localhost:8080/"
        },
        "id": "nnfFP6qAp569",
        "outputId": "fa0c4344-91ba-4212-fa6d-99beb016dc62"
      },
      "outputs": [
        {
          "output_type": "stream",
          "name": "stdout",
          "text": [
            "Requirement already satisfied: import-ipynb in /usr/local/lib/python3.7/dist-packages (0.1.3)\n"
          ]
        }
      ],
      "source": [
        "!pip install import-ipynb\n",
        "import import_ipynb\n",
        "!pip install -U -q PyDrive\n",
        "from pydrive.auth import GoogleAuth\n",
        "from pydrive.drive import GoogleDrive\n",
        "from google.colab import auth\n",
        "from oauth2client.client import GoogleCredentials\n",
        "\n",
        "# Authenticate and create the PyDrive client.\n",
        "# This only needs to be done once per notebook.\n",
        "auth.authenticate_user()\n",
        "gauth = GoogleAuth()\n",
        "gauth.credentials = GoogleCredentials.get_application_default()\n",
        "drive = GoogleDrive(gauth)\n",
        "module = drive.CreateFile({'id':'1_bGw2qVLG_kRh4pzzceRdVHy82ANnk0C'})\n",
        "#module.GetContentFile('/content/gdrive/MyDrive/Underwater_proj/GuidedFilter.ipynb')\n",
        "#from GuidedFilter import *\n",
        "\n",
        "__author__ = 'wy'\n",
        "import datetime\n",
        "import os\n",
        "import math\n",
        "import numpy as np\n",
        "import cv2\n",
        "from PIL import Image\n",
        "import os\n",
        "import numpy as np\n",
        "import cv2\n",
        "import natsort\n",
        "import xlwt\n"
      ]
    },
    {
      "cell_type": "code",
      "source": [
        "import numpy as np\n",
        "import cv2\n",
        "\n",
        "class GuidedFilter:\n",
        "    \n",
        "    # def __init__(self, I, radius=5, epsilon=0.4):\n",
        "    def __init__(self, I, radius, epsilon):\n",
        "\n",
        "        self._radius = 2 * radius + 1\n",
        "        self._epsilon = epsilon\n",
        "        self._I = self._toFloatImg(I)\n",
        "        self._initFilter()\n",
        "\n",
        "        # print('radius',self._radius)\n",
        "        # print('epsilon',self._epsilon)\n",
        "\n",
        "    def _toFloatImg(self, img):\n",
        "        if img.dtype == np.float32:\n",
        "            return img\n",
        "        return ( 1.0 / 255.0 ) * np.float32(img)\n",
        "\n",
        "    def _initFilter(self):\n",
        "        I = self._I\n",
        "        r = self._radius\n",
        "        eps = self._epsilon\n",
        "\n",
        "        Ir, Ig, Ib = I[:, :, 0], I[:, :, 1], I[:, :, 2]\n",
        "\n",
        "        # self._Ir_mean = cv2.blur(Ir, (r, r))\n",
        "        # self._Ig_mean = cv2.blur(Ig, (r, r))\n",
        "        # self._Ib_mean = cv2.blur(Ib, (r, r))\n",
        "        #\n",
        "        # Irr_var = cv2.blur(Ir ** 2, (r, r)) - self._Ir_mean ** 2 + eps\n",
        "        # Irg_var = cv2.blur(Ir * Ig, (r, r)) - self._Ir_mean * self._Ig_mean\n",
        "        # Irb_var = cv2.blur(Ir * Ib, (r, r)) - self._Ir_mean * self._Ib_mean\n",
        "        # Igg_var = cv2.blur(Ig * Ig, (r, r)) - self._Ig_mean * self._Ig_mean + eps\n",
        "        # Igb_var = cv2.blur(Ig * Ib, (r, r)) - self._Ig_mean * self._Ib_mean\n",
        "        # Ibb_var = cv2.blur(Ib * Ib, (r, r)) - self._Ib_mean * self._Ib_mean + eps\n",
        "\n",
        "\n",
        "        self._Ir_mean = cv2.blur(Ir, (r, r))\n",
        "        self._Ig_mean = cv2.blur(Ig, (r, r))\n",
        "        self._Ib_mean = cv2.blur(Ib, (r, r))\n",
        "\n",
        "        Irr_var = cv2.blur(Ir ** 2, (r, r)) - self._Ir_mean ** 2 + eps                                       \n",
        "        Irg_var = cv2.blur(Ir * Ig, (r, r)) - self._Ir_mean * self._Ig_mean                                  \n",
        "        Irb_var = cv2.blur(Ir * Ib, (r, r)) - self._Ir_mean * self._Ib_mean                                  \n",
        "        Igg_var = cv2.blur(Ig * Ig, (r, r)) - self._Ig_mean * self._Ig_mean + eps                            \n",
        "        Igb_var = cv2.blur(Ig * Ib, (r, r)) - self._Ig_mean * self._Ib_mean                                  \n",
        "        Ibb_var = cv2.blur(Ib * Ib, (r, r)) - self._Ib_mean * self._Ib_mean + eps                                                       \n",
        "\n",
        "\n",
        "        Irr_inv = Igg_var * Ibb_var - Igb_var * Igb_var                                                      \n",
        "        Irg_inv = Igb_var * Irb_var - Irg_var * Ibb_var                                                      \n",
        "        Irb_inv = Irg_var * Igb_var - Igg_var * Irb_var                                                      \n",
        "        Igg_inv = Irr_var * Ibb_var - Irb_var * Irb_var                                                      \n",
        "        Igb_inv = Irb_var * Irg_var - Irr_var * Igb_var                                                      \n",
        "        Ibb_inv = Irr_var * Igg_var - Irg_var * Irg_var                                                      \n",
        "        \n",
        "        I_cov = Irr_inv * Irr_var + Irg_inv * Irg_var + Irb_inv * Irb_var                                    \n",
        "        Irr_inv /= I_cov                                                                                     \n",
        "        Irg_inv /= I_cov                                                                                     \n",
        "        Irb_inv /= I_cov                                                                                     \n",
        "        Igg_inv /= I_cov                                                                                     \n",
        "        Igb_inv /= I_cov                                                                                     \n",
        "        Ibb_inv /= I_cov                                                                                     \n",
        "        \n",
        "        self._Irr_inv = Irr_inv                                                                              \n",
        "        self._Irg_inv = Irg_inv                                                                              \n",
        "        self._Irb_inv = Irb_inv                                                                              \n",
        "        self._Igg_inv = Igg_inv                                                                              \n",
        "        self._Igb_inv = Igb_inv                                                                              \n",
        "        self._Ibb_inv = Ibb_inv                  \n",
        "\n",
        "    def _computeCoefficients(self, p):\n",
        "        r = self._radius                                                             \n",
        "        I = self._I                                                                 \n",
        "        Ir, Ig, Ib = I[:, :, 0], I[:, :, 1], I[:, :, 2]                                                          \n",
        "        \n",
        "\n",
        "        p_mean = cv2.blur(p, (r, r))                             \n",
        "        Ipr_mean = cv2.blur(Ir * p, (r, r))                                                         \n",
        "        Ipg_mean = cv2.blur(Ig * p, (r, r))                                                    \n",
        "        Ipb_mean = cv2.blur(Ib * p, (r, r))             \n",
        "\n",
        "\n",
        "\n",
        "        Ipr_cov = Ipr_mean - self._Ir_mean * p_mean                                                 \n",
        "        Ipg_cov = Ipg_mean - self._Ig_mean * p_mean                                                     \n",
        "        Ipb_cov = Ipb_mean - self._Ib_mean * p_mean                                                       \n",
        "                                                                                                                 \n",
        "        ar = self._Irr_inv * Ipr_cov + self._Irg_inv * Ipg_cov + self._Irb_inv * Ipb_cov                 \n",
        "        ag = self._Irg_inv * Ipr_cov + self._Igg_inv * Ipg_cov + self._Igb_inv * Ipb_cov                \n",
        "        ab = self._Irb_inv * Ipr_cov + self._Igb_inv * Ipg_cov + self._Ibb_inv * Ipb_cov    \n",
        "\n",
        "        b = p_mean - ar * self._Ir_mean - ag * self._Ig_mean - ab * self._Ib_mean                                                                                                                                         \n",
        "\n",
        "        ar_mean = cv2.blur(ar, (r, r))          \n",
        "        ag_mean = cv2.blur(ag, (r, r))                                                                   \n",
        "        ab_mean = cv2.blur(ab, (r, r))                                                                      \n",
        "        b_mean = cv2.blur(b, (r, r))                                                                                                                                              \n",
        "\n",
        "        return ar_mean, ag_mean, ab_mean, b_mean            \n",
        "\n",
        "    def _computeOutput(self, ab, I):\n",
        "    \n",
        "        ar_mean, ag_mean, ab_mean, b_mean = ab\n",
        "        Ir, Ig, Ib = I[:, :, 0], I[:, :, 1], I[:, :, 2]\n",
        "        q = ar_mean * Ir + ag_mean * Ig + ab_mean * Ib + b_mean\n",
        "        return q\n",
        "\n",
        "    def filter(self, p):\n",
        "\n",
        "        p_32F = self._toFloatImg(p)\n",
        "\n",
        "        ab = self._computeCoefficients(p)\n",
        "        return self._computeOutput(ab, self._I)\n",
        "\n",
        "\n"
      ],
      "metadata": {
        "id": "YNThWaSd0cb8"
      },
      "execution_count": 31,
      "outputs": []
    },
    {
      "cell_type": "code",
      "source": [
        "class Node(object):\n",
        "    def __init__(self, x, y, value):\n",
        "        self.x = x\n",
        "        self.y = y\n",
        "        self.value = value\n",
        "\n",
        "    def printInfo(self):\n",
        "        print(self.x, self.y, self.value)\n"
      ],
      "metadata": {
        "id": "H7JsSfk9qvmj"
      },
      "execution_count": 22,
      "outputs": []
    },
    {
      "cell_type": "code",
      "source": [
        "def getMinChannel(img):\n",
        "    # 输入检查\n",
        "    if len(img.shape) == 3 and img.shape[2] == 3:\n",
        "        pass\n",
        "    else:\n",
        "        print(\"bad image shape, input must be color image\")\n",
        "        return None\n",
        "    imgGray = np.zeros((img.shape[0], img.shape[1]), dtype=np.uint8)\n",
        "    localMin = 255\n",
        "\n",
        "    for i in range(0, img.shape[0]):\n",
        "        for j in range(0, img.shape[1]):\n",
        "            localMin = 255\n",
        "            for k in range(0, 3):\n",
        "                if img.item((i, j, k)) < localMin:\n",
        "                    localMin = img.item((i, j, k))\n",
        "            imgGray[i, j] = localMin\n",
        "    return imgGray"
      ],
      "metadata": {
        "id": "NfmgtgD8qyMZ"
      },
      "execution_count": 23,
      "outputs": []
    },
    {
      "cell_type": "code",
      "source": [
        "def getDarkChannel(img, blockSize):\n",
        "    # 输入检查\n",
        "    if len(img.shape) == 2:\n",
        "        pass\n",
        "    else:\n",
        "        print(\"bad image shape, input image must be two demensions\")\n",
        "        return None\n",
        "\n",
        "    # blockSize检查\n",
        "    if blockSize % 2 == 0 or blockSize < 3:\n",
        "        print('blockSize is not odd or too small')\n",
        "        return None\n",
        "    # print('blockSize', blockSize)\n",
        "    # 计算addSize\n",
        "    addSize = int((blockSize - 1) / 2)\n",
        "    newHeight = img.shape[0] + blockSize - 1\n",
        "    newWidth = img.shape[1] + blockSize - 1\n",
        "\n",
        "    # 中间结果\n",
        "    imgMiddle = np.zeros((newHeight, newWidth))\n",
        "    imgMiddle[:, :] = 255\n",
        "    # print('imgMiddle',imgMiddle)\n",
        "    # print('type(newHeight)',type(newHeight))\n",
        "    # print('type(addSize)',type(addSize))\n",
        "    imgMiddle[addSize:newHeight - addSize, addSize:newWidth - addSize] = img\n",
        "    # print('imgMiddle', imgMiddle)\n",
        "    imgDark = np.zeros((img.shape[0], img.shape[1]), np.uint8)\n",
        "    localMin = 255\n",
        "\n",
        "    for i in range(addSize, newHeight - addSize):\n",
        "        for j in range(addSize, newWidth - addSize):\n",
        "            localMin = 255\n",
        "            for k in range(i - addSize, i + addSize + 1):\n",
        "                for l in range(j - addSize, j + addSize + 1):\n",
        "                    if imgMiddle.item((k, l)) < localMin:\n",
        "                        localMin = imgMiddle.item((k, l))\n",
        "            imgDark[i - addSize, j - addSize] = localMin\n",
        "\n",
        "    return imgDark"
      ],
      "metadata": {
        "id": "aGz-GEtFq1Ja"
      },
      "execution_count": 24,
      "outputs": []
    },
    {
      "cell_type": "code",
      "source": [
        "def getAtomsphericLight(darkChannel, img, meanMode=False, percent=0.001):\n",
        "    size = darkChannel.shape[0] * darkChannel.shape[1]\n",
        "    height = darkChannel.shape[0]\n",
        "    width = darkChannel.shape[1]\n",
        "\n",
        "    nodes = []\n",
        "\n",
        "    # 用一个链表结构(list)存储数据\n",
        "    for i in range(0, height):\n",
        "        for j in range(0, width):\n",
        "            oneNode = Node(i, j, darkChannel[i, j])\n",
        "            nodes.append(oneNode)\n",
        "\n",
        "    # 排序\n",
        "    nodes = sorted(nodes, key=lambda node: node.value, reverse=True)\n",
        "\n",
        "    atomsphericLight = 0\n",
        "\n",
        "    # 原图像像素过少时，只考虑第一个像素点\n",
        "    if int(percent * size) == 0:\n",
        "        for i in range(0, 3):\n",
        "            if img[nodes[0].x, nodes[0].y, i] > atomsphericLight:\n",
        "                atomsphericLight = img[nodes[0].x, nodes[0].y, i]\n",
        "        return atomsphericLight\n",
        "\n",
        "    # 开启均值模式\n",
        "    if meanMode:\n",
        "        sum = 0\n",
        "        for i in range(0, int(percent * size)):\n",
        "            for j in range(0, 3):\n",
        "                sum = sum + img[nodes[i].x, nodes[i].y, j]\n",
        "\n",
        "        atomsphericLight = int(sum / (int(percent * size) * 3))\n",
        "        return atomsphericLight\n",
        "\n",
        "    # 获取暗通道前0.1%(percent)的位置的像素点在原图像中的最高亮度值\n",
        "    for i in range(0, int(percent * size)):\n",
        "        for j in range(0, 3):\n",
        "            if img[nodes[i].x, nodes[i].y, j] > atomsphericLight:\n",
        "                atomsphericLight = img[nodes[i].x, nodes[i].y, j]\n",
        "\n",
        "    return atomsphericLight"
      ],
      "metadata": {
        "id": "paxdrZflq50K"
      },
      "execution_count": 25,
      "outputs": []
    },
    {
      "cell_type": "code",
      "source": [
        "def getRecoverScene(img, omega=0.95, t0=0.1, blockSize=15, meanMode=False, percent=0.001):\n",
        "    \n",
        "    gimfiltR = 50  # 引导滤波时半径的大小\n",
        "    eps = 10 ** -3  # 引导滤波时epsilon的值\n",
        "    \n",
        "    \n",
        "    imgGray = getMinChannel(img)\n",
        "    # print('imgGray', imgGray)\n",
        "    imgDark = getDarkChannel(imgGray, blockSize=blockSize)\n",
        "    atomsphericLight = getAtomsphericLight(imgDark, img, meanMode=meanMode, percent=percent)\n",
        "\n",
        "    imgDark = np.float64(imgDark)\n",
        "    transmission = 1 - omega * imgDark / atomsphericLight\n",
        "\n",
        "    guided_filter = GuidedFilter(img, gimfiltR, eps)\n",
        "    transmission = guided_filter.filter(transmission)\n",
        "    \n",
        "    # 防止出现t小于0的情况\n",
        "    # 对t限制最小值为0.1\n",
        "\n",
        "    transmission = np.clip(transmission, t0, 0.9)\n",
        "\n",
        "    sceneRadiance = np.zeros(img.shape)\n",
        "    for i in range(0, 3):\n",
        "        img = np.float64(img)\n",
        "        sceneRadiance[:, :, i] = (img[:, :, i] - atomsphericLight) / transmission + atomsphericLight\n",
        "\n",
        "    sceneRadiance = np.clip(sceneRadiance, 0, 255)\n",
        "    sceneRadiance = np.uint8(sceneRadiance)\n",
        "\n",
        "    return transmission,sceneRadiance\n"
      ],
      "metadata": {
        "id": "6AeX8COzq_EZ"
      },
      "execution_count": 26,
      "outputs": []
    },
    {
      "cell_type": "code",
      "source": [
        "np.seterr(over='ignore')\n",
        "if __name__ == '__main__':\n",
        "    pass\n",
        "\n",
        "# folder = \"C:/Users/Administrator/Desktop/UnderwaterImageEnhancement/Physical/DCP\"\n",
        "folder = \"/content/gdrive/MyDrive/Underwater_proj/\"\n",
        "path = folder + \"Dataset\"\n",
        "os.makedirs(path, exist_ok = True)\n",
        "files = os.listdir(path)\n",
        "files =  natsort.natsorted(files)\n",
        "\n",
        "for i in range(len(files)):\n",
        "    file = files[i]\n",
        "    filepath = path + \"/\" + file\n",
        "    prefix = file.split('.')[0]\n",
        "    if os.path.isfile(filepath):\n",
        "        print('********    file   ********',file)\n",
        "        img = cv2.imread(folder +'/Dataset/' + file)\n",
        "        transmission, sceneRadiance = getRecoverScene(img)\n",
        "        cv2.imwrite('/content/gdrive/MyDrive/Underwater_proj/OutputImages/' + prefix + '_DCP_TM.jpg', np.uint8(transmission * 255))\n",
        "        cv2.imwrite('/content/gdrive/MyDrive/Underwater_proj/OutputImages/' + prefix + '_DCP.jpg', sceneRadiance)\n"
      ],
      "metadata": {
        "colab": {
          "base_uri": "https://localhost:8080/"
        },
        "id": "T1F9xdl7rFWp",
        "outputId": "39b35e7b-bdd7-475e-bf52-26d4e7db425e"
      },
      "execution_count": 34,
      "outputs": [
        {
          "output_type": "stream",
          "name": "stdout",
          "text": [
            "********    file   ******** 1.png\n",
            "********    file   ******** 2.png\n",
            "********    file   ******** 3.png\n",
            "********    file   ******** 4.png\n",
            "********    file   ******** 5.png\n",
            "********    file   ******** 16.png\n",
            "********    file   ******** 17.png\n",
            "********    file   ******** 18.png\n",
            "********    file   ******** 19.png\n",
            "********    file   ******** 20.png\n",
            "********    file   ******** fish.jpeg\n"
          ]
        }
      ]
    }
  ]
}